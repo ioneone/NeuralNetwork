{
 "cells": [
  {
   "cell_type": "code",
   "execution_count": 488,
   "metadata": {
    "collapsed": false
   },
   "outputs": [],
   "source": [
    "import random\n",
    "\n",
    "class Matrix():\n",
    "    def __init__(self, row=0, col=0, val=None, data=None):\n",
    "        if data != None:\n",
    "            self.row = len(data)\n",
    "            self.col = len(data[0])\n",
    "            self.data = [[val]*self.col for _ in range(self.row)]\n",
    "            for i in range(self.row):\n",
    "                for j in range(self.col):\n",
    "                    self.data[i][j] = data[i][j] \n",
    "        else:\n",
    "            self.row = row\n",
    "            self.col = col\n",
    "            if val != None:\n",
    "                self.data = [[val]*self.col for _ in range(self.row)]\n",
    "            else:\n",
    "                self.data = [[random.uniform(-1, 1)]*self.col for _ in range(self.row)]\n",
    "            \n",
    "    def random(self):\n",
    "        for i in range(self.row):\n",
    "            for j in range(self.col):\n",
    "                self.data[i][j] = random.uniform(-1, 1)\n",
    "            \n",
    "    def dot(self, m):\n",
    "        if self.col != 1 or m.col != 1 or self.row != m.row:\n",
    "            raise Exception(\"Cannot take dot products. Two operands should be an equal size vectors\")\n",
    "        matrix = Matrix(self.row, self.col)\n",
    "        for i in range(self.row):\n",
    "            for j in range(self.col):\n",
    "                matrix.data[i][j] = self.data[i][j] * m.data[i][j]\n",
    "        return matrix\n",
    "                \n",
    "    def identity(self):\n",
    "        matrix = Matrix(self.row, self.col)\n",
    "        for i in range(self.row):\n",
    "            for j in range(self.col):\n",
    "                if i == j:\n",
    "                    matrix.data[i][j] = 1\n",
    "                else:\n",
    "                    matrix.data[i][j] = 0\n",
    "        return matrix\n",
    "       \n",
    "    def transpose(self):\n",
    "        matrix = Matrix(self.col, self.row)\n",
    "        for i in range(self.row):\n",
    "            for j in range(self.col):\n",
    "                matrix.data[j][i] = self.data[i][j]\n",
    "        return matrix\n",
    "    \n",
    "    def transform(self, f):\n",
    "        matrix = Matrix(self.row, self.col)\n",
    "        for i in range(self.row):\n",
    "            for j in range(self.col):\n",
    "                matrix.data[i][j] = f(self.data[i][j])\n",
    "        return matrix\n",
    "    \n",
    "    def mul(self, m):\n",
    "        if self.col != m.row:\n",
    "            raise Exception(\"Number of columns of left matrix does not match number of rows of right matrix\")\n",
    "        matrix = Matrix(self.row, m.col)\n",
    "        for i in range(matrix.row):\n",
    "            for j in range(matrix.col):\n",
    "                for k in range(self.col):\n",
    "                    matrix.data[i][j] += self.data[i][k] * m.data[k][j]\n",
    "        return matrix\n",
    "    \n",
    "    def scale(self, s, row=-1, col=-1):\n",
    "        matrix = Matrix(self.row, self.col)\n",
    "        if row != -1:\n",
    "            for i in range(matrix.col):\n",
    "                matrix.data[row][i] = self.data[row][i] * s\n",
    "        elif col != -1:\n",
    "            for i in range(matrix.row):\n",
    "                matrix.data[i][col] = self.data[i][col] * s\n",
    "        else:\n",
    "            for i in range(matrix.row):\n",
    "                for j in range(matrix.col):\n",
    "                    matrix.data[i][j] = self.data[i][j] * s\n",
    "        return matrix\n",
    "        \n",
    "    \n",
    "    def add(self, m):\n",
    "        if self.row != m.row or self.col != m.col:\n",
    "            raise Exception(\"Number of rows and columns should match\")\n",
    "        matrix = Matrix(self.row, self.col)\n",
    "        for i in range(self.row):\n",
    "            for j in range(self.col):\n",
    "                matrix.data[i][j] = self.data[i][j] + m.data[i][j]\n",
    "        return matrix\n",
    "    \n",
    "    def sub(self, m):\n",
    "        if self.row != m.row or self.col != m.col:\n",
    "            raise Exception(\"Number of rows and columns should match\")\n",
    "        matrix = Matrix(self.row, self.col)\n",
    "        for i in range(self.row):\n",
    "            for j in range(self.col):\n",
    "                matrix.data[i][j] = self.data[i][j] - m.data[i][j]\n",
    "        return matrix\n",
    "      \n",
    "    def show(self):\n",
    "        for i in range(self.row):\n",
    "            print()\n",
    "            for j in range(self.col):\n",
    "                print(str(self.data[i][j]) + \" \", end=\"\")"
   ]
  },
  {
   "cell_type": "code",
   "execution_count": 442,
   "metadata": {
    "collapsed": true
   },
   "outputs": [],
   "source": [
    "# Single layer neural network\n",
    "class NeuralNetwork():\n",
    "    def __init__(self, input_layer, output_layer, alpha=0.1):\n",
    "        self.num_input = input_layer\n",
    "        self.num_output = output_layer\n",
    "        self.alpha = alpha\n",
    "        self.w = Matrix(output_layer, input_layer, 1)\n",
    "        \n",
    "    def sigmoid(self, x):\n",
    "        return 1 / (1 + math.e**(-x))\n",
    "    \n",
    "    def sigmoid_derivative(self, x):\n",
    "        return x * (1 - x)\n",
    "        \n",
    "    def train(self, input_data, output_data):\n",
    "        input_m_list = [Matrix(data=[x]).transpose() for x in input_data]\n",
    "        output_m_list = [Matrix(data=[x]).transpose() for x in output_data]\n",
    "        \n",
    "        for _ in range(10000):\n",
    "            for i in range(len(input_m_list)):\n",
    "                input_m = input_m_list[i]\n",
    "                desired_output_m = output_m_list[i]\n",
    "                output_m = self.w.mul(input_m).transform(self.sigmoid)\n",
    "                \n",
    "                error_m = desired_output_m.sub(output_m)\n",
    "                \n",
    "                sigmoid_gradient_output_m = output_m.transform(self.sigmoid_derivative)\n",
    "                \n",
    "                error_m_dot_sigmoid_gradient_output_m = error_m.dot(sigmoid_gradient_output_m)\n",
    "                \n",
    "                alpha_dot_error_m_dot_sigmoid_gradient_output_m = error_m_dot_sigmoid_gradient_output_m.scale(self.alpha)\n",
    "                \n",
    "                adjustment_m = alpha_dot_error_m_dot_sigmoid_gradient_output_m.mul(input_m.transpose())\n",
    "                \n",
    "                self.w = self.w.add(adjustment_m)\n",
    "                \n",
    "    def test(self, input_data):\n",
    "        input_m_list = [Matrix(data=[x]).transpose() for x in input_data]\n",
    "        for i in range(len(input_m_list)):\n",
    "            input_m = input_m_list[i]\n",
    "            \n",
    "            output_m = self.w.mul(input_m).transform(self.sigmoid)\n",
    "\n",
    "            print(output_m.data)"
   ]
  },
  {
   "cell_type": "code",
   "execution_count": 446,
   "metadata": {
    "collapsed": false
   },
   "outputs": [],
   "source": [
    "# input_data = [[0, 0, 1]]\n",
    "input_data = [[0, 0, 1],\n",
    "              [0, 1, 1],\n",
    "              [1, 0, 1],\n",
    "              [0, 1, 0],\n",
    "              [1, 0, 0],\n",
    "              [1, 1, 1],\n",
    "              [0, 0, 0]]\n",
    "\n",
    "# input_data = [[0, 0, 1],\n",
    "#               [1, 1, 1],\n",
    "#               [1, 0, 1],\n",
    "#               [0, 1, 1]]\n",
    "\n",
    "outut_data = [[1, 0, 0], \n",
    "              [1, 0, 0], \n",
    "              [0, 0, 0], \n",
    "              [1, 0, 0],\n",
    "              [0, 0, 0],\n",
    "              [0, 0, 0],\n",
    "              [1, 0, 0]]\n",
    "\n",
    "\n",
    "nn = NeuralNetwork(3, 3)\n",
    "nn.train(input_data, outut_data)"
   ]
  },
  {
   "cell_type": "code",
   "execution_count": 447,
   "metadata": {
    "collapsed": false,
    "scrolled": true
   },
   "outputs": [
    {
     "name": "stdout",
     "output_type": "stream",
     "text": [
      "[[0.041496410775762486], [1.3634578349364505e-05], [1.3634578349364505e-05]]\n"
     ]
    }
   ],
   "source": [
    "nn.test([[1, 1, 1]])"
   ]
  },
  {
   "cell_type": "code",
   "execution_count": 445,
   "metadata": {
    "collapsed": false,
    "scrolled": true
   },
   "outputs": [
    {
     "data": {
      "text/plain": [
       "[[9.113714826434142, -2.9872499512275708, -2.9855761878287153],\n",
       " [-3.7317787120402133, -3.731784414063405, -3.7393247055089804],\n",
       " [-3.7317787120402133, -3.731784414063405, -3.7393247055089804]]"
      ]
     },
     "execution_count": 445,
     "metadata": {},
     "output_type": "execute_result"
    }
   ],
   "source": [
    "nn.w.data"
   ]
  },
  {
   "cell_type": "code",
   "execution_count": 480,
   "metadata": {
    "collapsed": true
   },
   "outputs": [],
   "source": [
    "# Multi-layered neural network\n",
    "class NeuralNetwork():\n",
    "    def __init__(self, input_layer, hidden_layer, output_layer, alpha=0.1):\n",
    "        self.num_input = input_layer\n",
    "        self.num_hiddent = hidden_layer\n",
    "        self.num_output = output_layer\n",
    "        self.alpha = alpha\n",
    "        self.w0 = Matrix(hidden_layer, input_layer, 1)\n",
    "        self.w1 = Matrix(output_layer, hidden_layer, 1)\n",
    "        \n",
    "    def sigmoid(self, x):\n",
    "        return 1 / (1 + math.e**(-x))\n",
    "    \n",
    "    def sigmoid_derivative(self, x):\n",
    "        return x * (1 - x)\n",
    "        \n",
    "    def train(self, input_data, output_data):\n",
    "        \n",
    "        self.w0.random()\n",
    "        self.w1.random()\n",
    "        \n",
    "        input_m_list = [Matrix(data=[x]).transpose() for x in input_data]\n",
    "        output_m_list = [Matrix(data=[x]).transpose() for x in output_data]\n",
    "        \n",
    "        \n",
    "        \n",
    "        for _ in range(10000):\n",
    "            for i in range(len(input_m_list)):\n",
    "                input_m = input_m_list[i]\n",
    "                desired_output_m = output_m_list[i]\n",
    "                \n",
    "                hidden_output = self.w0.mul(input_m).transform(self.sigmoid)\n",
    "                \n",
    "                output_m = self.w1.mul(hidden_output).transform(self.sigmoid)\n",
    "                \n",
    "                error_m = desired_output_m.sub(output_m)\n",
    "                \n",
    "                sigmoid_gradient_output_m = output_m.transform(self.sigmoid_derivative)\n",
    "                \n",
    "                error_m_dot_sigmoid_gradient_output_m = error_m.dot(sigmoid_gradient_output_m)\n",
    "                \n",
    "                alpha_dot_error_m_dot_sigmoid_gradient_output_m = error_m_dot_sigmoid_gradient_output_m.scale(self.alpha)\n",
    "                \n",
    "                w1_adjustment_m = alpha_dot_error_m_dot_sigmoid_gradient_output_m.mul(hidden_output.transpose())\n",
    "                \n",
    "                \n",
    "                hidden_error_m = self.w1.transpose().mul(error_m)\n",
    "                \n",
    "                sigmoid_gradient_hidden_output_m = hidden_output.transform(self.sigmoid_derivative)\n",
    "                \n",
    "                hidden_error_m_dot_sigmoid_gradient_hidden_output_m = hidden_error_m.dot(sigmoid_gradient_hidden_output_m)\n",
    "                \n",
    "                alpha_hidden_error_m_dot_sigmoid_gradient_hidden_output_m = hidden_error_m_dot_sigmoid_gradient_hidden_output_m.scale(self.alpha)\n",
    "                \n",
    "                w0_adjustment_m = alpha_hidden_error_m_dot_sigmoid_gradient_hidden_output_m.mul(input_m.transpose())\n",
    "                \n",
    "                self.w1 = self.w1.add(w1_adjustment_m)\n",
    "                self.w0 = self.w0.add(w0_adjustment_m)\n",
    "                \n",
    "    def test(self, input_data):\n",
    "        input_m_list = [Matrix(data=[x]).transpose() for x in input_data]\n",
    "        for i in range(len(input_m_list)):\n",
    "            input_m = input_m_list[i]\n",
    "            \n",
    "            hidden_output_m = self.w0.mul(input_m).transform(self.sigmoid)\n",
    "            \n",
    "            output_m = self.w1.mul(hidden_output_m).transform(self.sigmoid)\n",
    "\n",
    "            print(output_m.data)"
   ]
  },
  {
   "cell_type": "code",
   "execution_count": 482,
   "metadata": {
    "collapsed": false
   },
   "outputs": [],
   "source": [
    "# input_data = [[0, 0, 1]]\n",
    "input_data = [[0, 0, 0],\n",
    "              [0, 0, 1],\n",
    "              [0, 1, 0],\n",
    "              [0, 1, 1],\n",
    "              [1, 0, 0],\n",
    "              [1, 0, 1],\n",
    "              [1, 1, 0],\n",
    "              [1, 1, 1]]\n",
    "\n",
    "# input_data = [[0, 0, 1],\n",
    "#               [1, 1, 1],\n",
    "#               [1, 0, 1],\n",
    "#               [0, 1, 1]]\n",
    "\n",
    "outut_data = [[0], \n",
    "              [0], \n",
    "              [1], \n",
    "              [1],\n",
    "              [1],\n",
    "              [1],\n",
    "              [0],\n",
    "              [0]]\n",
    "\n",
    "\n",
    "nn = NeuralNetwork(3, 10, 1)\n",
    "nn.train(input_data, outut_data)"
   ]
  },
  {
   "cell_type": "code",
   "execution_count": 486,
   "metadata": {
    "collapsed": false
   },
   "outputs": [
    {
     "name": "stdout",
     "output_type": "stream",
     "text": [
      "[[0.0007553542248885421]]\n"
     ]
    }
   ],
   "source": [
    "nn.test([[0, 0, 1]])"
   ]
  },
  {
   "cell_type": "code",
   "execution_count": 478,
   "metadata": {
    "collapsed": false
   },
   "outputs": [
    {
     "data": {
      "text/plain": [
       "[[13.329613122660614, -7.057497517997761, 2.8132038683082277],\n",
       " [8.307797344853443, 5.865235508635531, 3.0426129473698524],\n",
       " [-12.02303336754485, -8.854399474091569, 2.453350885043819],\n",
       " [8.76237029383868, 6.174732831962637, 1.2598111700305608]]"
      ]
     },
     "execution_count": 478,
     "metadata": {},
     "output_type": "execute_result"
    }
   ],
   "source": [
    "nn.w0.data"
   ]
  },
  {
   "cell_type": "code",
   "execution_count": 479,
   "metadata": {
    "collapsed": false
   },
   "outputs": [
    {
     "data": {
      "text/plain": [
       "[[-4.06627512230552,\n",
       "  2.1299043709194123,\n",
       "  -8.541188748630798,\n",
       "  2.6189725807742024],\n",
       " [-1.7848268583404068,\n",
       "  -3.601523483120962,\n",
       "  -1.754389193076705,\n",
       "  -2.4136474228134266],\n",
       " [-1.801779956078886,\n",
       "  -3.431948558556473,\n",
       "  -1.1774095192111282,\n",
       "  -3.0126946251630007]]"
      ]
     },
     "execution_count": 479,
     "metadata": {},
     "output_type": "execute_result"
    }
   ],
   "source": [
    "nn.w1.data"
   ]
  },
  {
   "cell_type": "code",
   "execution_count": null,
   "metadata": {
    "collapsed": true
   },
   "outputs": [],
   "source": []
  }
 ],
 "metadata": {
  "kernelspec": {
   "display_name": "Python 3",
   "language": "python",
   "name": "python3"
  },
  "language_info": {
   "codemirror_mode": {
    "name": "ipython",
    "version": 3
   },
   "file_extension": ".py",
   "mimetype": "text/x-python",
   "name": "python",
   "nbconvert_exporter": "python",
   "pygments_lexer": "ipython3",
   "version": "3.6.0"
  }
 },
 "nbformat": 4,
 "nbformat_minor": 2
}
