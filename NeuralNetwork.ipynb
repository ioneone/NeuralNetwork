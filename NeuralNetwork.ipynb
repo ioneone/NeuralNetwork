{
 "cells": [
  {
   "cell_type": "code",
   "execution_count": 7,
   "metadata": {
    "collapsed": false
   },
   "outputs": [],
   "source": [
    "training_set_inputs = [[0, 0, 1], [1, 1, 1], [1, 0, 1], [0, 1, 1]]\n",
    "training_set_outputs = [0, 1, 1, 0]"
   ]
  },
  {
   "cell_type": "code",
   "execution_count": 8,
   "metadata": {
    "collapsed": false
   },
   "outputs": [
    {
     "data": {
      "text/plain": [
       "[0, 0, 1]"
      ]
     },
     "execution_count": 8,
     "metadata": {},
     "output_type": "execute_result"
    }
   ],
   "source": [
    "training_set_inputs[0]"
   ]
  },
  {
   "cell_type": "code",
   "execution_count": 10,
   "metadata": {
    "collapsed": false
   },
   "outputs": [
    {
     "data": {
      "text/plain": [
       "0"
      ]
     },
     "execution_count": 10,
     "metadata": {},
     "output_type": "execute_result"
    }
   ],
   "source": [
    "training_set_outputs[0]"
   ]
  },
  {
   "cell_type": "code",
   "execution_count": 25,
   "metadata": {
    "collapsed": true
   },
   "outputs": [],
   "source": [
    "class Matrix():\n",
    "    def __init__(self):\n",
    "        self.arrays = []\n",
    "        self.row = 0\n",
    "        self.col = 0\n",
    "        \n",
    "    def append(self, array):\n",
    "        if len(self.arrays) == 0:\n",
    "            self.col = len(array)\n",
    "        if self.col != len(array):\n",
    "            raise Exception(\"Invalid array size is passed. All the arrays should have the same size.\")\n",
    "        self.row += 1\n",
    "        self.arrays.append(array)\n",
    "        \n",
    "    def mul(self, array):\n",
    "        if self.col != len(array):\n",
    "            raise Exception(\"Invalid array size is passed. Need to multiply by an array whose size is self.col\")\n",
    "            \n",
    "        result = [0] * self.row\n",
    "        for i in range(self.row):\n",
    "            for j in range(self.col):\n",
    "                result[i] += self.arrays[i][j] * array[j]\n",
    "                \n",
    "        return result"
   ]
  },
  {
   "cell_type": "code",
   "execution_count": 80,
   "metadata": {
    "collapsed": false
   },
   "outputs": [],
   "source": [
    "import math\n",
    "\n",
    "class NeuralNetwork():\n",
    "    def __init__(self, matrix, weight):\n",
    "        if matrix.col != len(weight):\n",
    "            raise Exception(\"Invalid size \" + str(len(weight)) + \" for the weight. The column size of the matrix \" + str(matrix.col) + \" should be the same as size of the weight.\")\n",
    "        self.matrix = matrix\n",
    "        self.weight = weight\n",
    "        \n",
    "    def train(self, desired_output):\n",
    "        if self.matrix.row != len(desired_output):\n",
    "            raise Exception(\"Invalid size for desired output.\")\n",
    "                \n",
    "        for i in range(10000):\n",
    "            output = self.get_output()\n",
    "            for j in range(self.matrix.row):\n",
    "                error = desired_output[j] - output[j]\n",
    "                for k in range(self.matrix.col):\n",
    "                    input = self.matrix.arrays[j][k]\n",
    "                    adjust = error * input * self.sigmoid_derivative(output[j])\n",
    "                    self.weight[k] += adjust\n",
    "    \n",
    "    def sigmoid(self, x):\n",
    "        return 1 / (1 + math.e**-x)\n",
    "    \n",
    "    def sigmoid_derivative(self, x):\n",
    "        return x * (1 - x)\n",
    "    \n",
    "    def get_output(self):\n",
    "        output = self.matrix.mul(self.weight)\n",
    "        for i in range(len(output)):\n",
    "            output[i] = self.sigmoid(output[i])\n",
    "        return output\n",
    "    \n",
    "    def test(self, input):\n",
    "        if len(self.weight) != len(input):\n",
    "            raise Exception(\"Invalid size of input is passed. Size of input should match size of the weight\")\n",
    "        \n",
    "        result = [0]*len(input)\n",
    "        for i in range(len(input)):\n",
    "            result[i] = self.weight[i] * input[i]\n",
    "            \n",
    "        sum = 0\n",
    "        for i in range(len(result)):\n",
    "            sum += result[i]\n",
    "            \n",
    "        output = self.sigmoid(sum)\n",
    "                \n",
    "        return output\n",
    "    \n",
    "    \n",
    "    "
   ]
  },
  {
   "cell_type": "code",
   "execution_count": 81,
   "metadata": {
    "collapsed": false
   },
   "outputs": [],
   "source": [
    "matrix = Matrix()\n",
    "matrix.append([0, 0, 1])\n",
    "matrix.append([1, 1, 1])\n",
    "matrix.append([1, 0, 1])\n",
    "matrix.append([0, 1, 1])\n",
    "\n",
    "weight = [0.5, 0.5, 0.5]\n",
    "\n",
    "neural_network = NeuralNetwork(matrix, weight)\n",
    "neural_network.train(training_set_outputs)"
   ]
  },
  {
   "cell_type": "code",
   "execution_count": 82,
   "metadata": {
    "collapsed": false
   },
   "outputs": [
    {
     "data": {
      "text/plain": [
       "[9.672872840044812, -0.20828921048238266, -4.629310644146656]"
      ]
     },
     "execution_count": 82,
     "metadata": {},
     "output_type": "execute_result"
    }
   ],
   "source": [
    "neural_network.weight"
   ]
  },
  {
   "cell_type": "code",
   "execution_count": 83,
   "metadata": {
    "collapsed": false
   },
   "outputs": [
    {
     "data": {
      "text/plain": [
       "0.9999370352685609"
      ]
     },
     "execution_count": 83,
     "metadata": {},
     "output_type": "execute_result"
    }
   ],
   "source": [
    "neural_network.test([1, 0, 0])"
   ]
  },
  {
   "cell_type": "code",
   "execution_count": null,
   "metadata": {
    "collapsed": true
   },
   "outputs": [],
   "source": []
  }
 ],
 "metadata": {
  "kernelspec": {
   "display_name": "Python 3",
   "language": "python",
   "name": "python3"
  },
  "language_info": {
   "codemirror_mode": {
    "name": "ipython",
    "version": 3
   },
   "file_extension": ".py",
   "mimetype": "text/x-python",
   "name": "python",
   "nbconvert_exporter": "python",
   "pygments_lexer": "ipython3",
   "version": "3.6.0"
  }
 },
 "nbformat": 4,
 "nbformat_minor": 2
}
